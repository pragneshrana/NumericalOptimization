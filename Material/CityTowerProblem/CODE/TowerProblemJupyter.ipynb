{
 "cells": [
  {
   "cell_type": "code",
   "execution_count": 2,
   "metadata": {},
   "outputs": [
    {
     "name": "stdout",
     "output_type": "stream",
     "text": [
      "RequiredRegions:  7\n",
      "Figure(640x480)\n",
      "Figure(640x480)\n",
      "Using license file /home/pragnesh/gurobi.lic\n",
      "Academic license - for non-commercial use only\n",
      "Gurobi Optimizer version 9.0.2 build v9.0.2rc0 (linux64)\n",
      "Optimize a model with 8 rows, 14 columns and 35 nonzeros\n",
      "Model fingerprint: 0x7c3b1c35\n",
      "Variable types: 0 continuous, 14 integer (14 binary)\n",
      "Coefficient statistics:\n",
      "  Matrix range     [1e+00, 3e+06]\n",
      "  Objective range  [1e+04, 6e+04]\n",
      "  Bounds range     [1e+00, 1e+00]\n",
      "  RHS range        [7e+06, 7e+06]\n",
      "Found heuristic solution: objective -0.0000000\n",
      "Presolve time: 0.03s\n",
      "Presolved: 8 rows, 14 columns, 35 nonzeros\n",
      "Variable types: 0 continuous, 14 integer (14 binary)\n",
      "\n",
      "Root relaxation: objective 1.169280e+05, 8 iterations, 0.00 seconds\n",
      "\n",
      "    Nodes    |    Current Node    |     Objective Bounds      |     Work\n",
      " Expl Unexpl |  Obj  Depth IntInf | Incumbent    BestBd   Gap | It/Node Time\n",
      "\n",
      "*    0     0               0    116928.00000 116928.000  0.00%     -    0s\n",
      "\n",
      "Explored 0 nodes (8 simplex iterations) in 0.06 seconds\n",
      "Thread count was 4 (of 4 available processors)\n",
      "\n",
      "Solution count 2: 116928 -0 \n",
      "\n",
      "Optimal solution found (tolerance 1.00e-04)\n",
      "Best objective 1.169280000000e+05, best bound 1.169280000000e+05, gap 0.0000%\n",
      "\n",
      " Build a cell tower at location Tower 0.\n",
      "\n",
      " Build a cell tower at location Tower 5.\n",
      "\n",
      " The population coverage associated to the cell towers build plan is: 89.94 %\n",
      "\n",
      " The percentage of budget consumed associated to the cell towers build plan is: 87.38 %\n",
      "Figure(640x480)\n",
      "Figure(640x480)\n"
     ]
    }
   ],
   "source": [
    "!python TowerPlanning.py 7"
   ]
  },
  {
   "cell_type": "code",
   "execution_count": null,
   "metadata": {},
   "outputs": [],
   "source": []
  },
  {
   "cell_type": "code",
   "execution_count": null,
   "metadata": {},
   "outputs": [],
   "source": []
  }
 ],
 "metadata": {
  "kernelspec": {
   "display_name": "Python 3",
   "language": "python",
   "name": "python3"
  },
  "language_info": {
   "codemirror_mode": {
    "name": "ipython",
    "version": 3
   },
   "file_extension": ".py",
   "mimetype": "text/x-python",
   "name": "python",
   "nbconvert_exporter": "python",
   "pygments_lexer": "ipython3",
   "version": "3.7.6"
  }
 },
 "nbformat": 4,
 "nbformat_minor": 4
}
